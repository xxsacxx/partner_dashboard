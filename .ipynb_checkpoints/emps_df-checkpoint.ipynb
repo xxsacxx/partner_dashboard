{
 "cells": [
  {
   "cell_type": "code",
   "execution_count": null,
   "metadata": {},
   "outputs": [],
   "source": []
  },
  {
   "cell_type": "code",
   "execution_count": 1,
   "metadata": {},
   "outputs": [],
   "source": [
    "    import configparser\n",
    "    from bson.objectid import ObjectId\n",
    "    import pandas as pd\n",
    "    import numpy as np\n",
    "    import csv\n",
    "    import pymongo\n",
    "    import io\n",
    "    import traceback\n",
    "    import sys\n",
    "\n",
    "\n",
    "pid = '5d4421722b3dc03043dead1e'\n",
    "part_id = '5d4421722b3dc03043dead1e' \n",
    "\n",
    "config = configparser.ConfigParser()\n",
    "config.read('configmsg.ini')\n",
    "dsh = config['DASH']\n",
    "MONGO_HOST = dsh['MONGO_HOST']\n",
    "MONGO_PORT = int(dsh['MONGO_PORT'])\n",
    "myclient = pymongo.MongoClient(MONGO_HOST,MONGO_PORT,maxPoolSize=10)\n",
    "mydb = myclient[(dsh['database_name'])]\n",
    "\n",
    "dash_usr_tbl=mydb[(dsh['dash_users'])]\n",
    "\n"
   ]
  },
  {
   "cell_type": "code",
   "execution_count": 2,
   "metadata": {},
   "outputs": [],
   "source": [
    "dfs =[]"
   ]
  },
  {
   "cell_type": "code",
   "execution_count": 39,
   "metadata": {},
   "outputs": [
    {
     "ename": "SyntaxError",
     "evalue": "'return' outside function (<ipython-input-39-0fa11a8a6d76>, line 35)",
     "output_type": "error",
     "traceback": [
      "\u001b[0;36m  File \u001b[0;32m\"<ipython-input-39-0fa11a8a6d76>\"\u001b[0;36m, line \u001b[0;32m35\u001b[0m\n\u001b[0;31m    return(dfs)\u001b[0m\n\u001b[0;31mSyntaxError\u001b[0m\u001b[0;31m:\u001b[0m 'return' outside function\n"
     ]
    }
   ],
   "source": [
    "        part_emp_tbl=mydb['partner_employees'].find({'partner_id': ObjectId(pid)})\n",
    "        loanapp_tbl=mydb['loan_applications'].find({'partner_id': ObjectId(pid)})\n",
    "        user_emp_tbl=mydb['user_employments'].find({'partner_id': ObjectId(pid)})\n",
    "\n",
    "\n",
    "\n",
    "\n",
    "\n",
    "        part_emp = pd.DataFrame(list(part_emp_tbl))\n",
    "        loanapp = pd.DataFrame(list(loanapp_tbl))\n",
    "        user_emp = pd.DataFrame(list(user_emp_tbl))\n",
    "\n",
    "        part_emp['partner_id'] = part_emp['partner_id'].astype(str)\n",
    "        user_emp['partner_id'] = user_emp['partner_id'].astype(str)\n",
    "        loanapp['partner_id'] = loanapp['partner_id'].astype(str)\n",
    "        loanapp['user_id'] = loanapp['user_id'].astype(str)\n",
    "\n",
    "        user_emp = (user_emp[['employee_id','user_id','current','employer_name']])\n",
    "        part_emp = (part_emp[['emp_id','currently_employed','department','name','registered_phone_number','work_location']])\n",
    "        part_emp= part_emp.rename(columns = {'emp_id':'employee_id'})\n",
    "        loanapp = loanapp[['user_id','status']]\n",
    "\n",
    "\n",
    "        df = (pd.merge(user_emp, part_emp, on='employee_id'))\n",
    "\n",
    "        df['user_id'] = df['user_id'].astype(str)\n",
    "        df = (pd.merge(loanapp, df, on='user_id'))\n",
    "        df = df[['name','employee_id','work_location','department','status','currently_employed','registered_phone_number','employer_name']]\n",
    "\n",
    "        df.columns = ['Name','Emp_id','Curr_City','Department','Status','Currently_Employed','Phone_No','Vendor']\n",
    "        df['Status'] = df['Status'].map({'CREDIT_DECISION_SUCCESS': 'Active','APPLIED': 'Applied'})\n",
    "\n",
    "        df['Currently_Employed'] = df['Currently_Employed'].map({True: 'Working',False: 'Not Working'})\n",
    "        dfs.append(df)\n",
    "        "
   ]
  },
  {
   "cell_type": "code",
   "execution_count": 3,
   "metadata": {},
   "outputs": [],
   "source": [
    "def sub_partner_emp(pids):\n",
    "    dfs=[]\n",
    "    for pid in pids:\n",
    "        print(pid)\n",
    "\n",
    "        part_emp_tbl=mydb['partner_employees'].find({'partner_id': ObjectId(pid)})\n",
    "        loanapp_tbl=mydb['loan_applications'].find({'partner_id': ObjectId(pid)})\n",
    "        user_emp_tbl=mydb['user_employments'].find({'partner_id': ObjectId(pid)})\n",
    "\n",
    "\n",
    "\n",
    "\n",
    "\n",
    "        part_emp = pd.DataFrame(list(part_emp_tbl))\n",
    "        loanapp = pd.DataFrame(list(loanapp_tbl))\n",
    "        user_emp = pd.DataFrame(list(user_emp_tbl))\n",
    "\n",
    "        part_emp['partner_id'] = part_emp['partner_id'].astype(str)\n",
    "        user_emp['partner_id'] = user_emp['partner_id'].astype(str)\n",
    "        loanapp['partner_id'] = loanapp['partner_id'].astype(str)\n",
    "        loanapp['user_id'] = loanapp['user_id'].astype(str)\n",
    "\n",
    "        user_emp = (user_emp[['employee_id','user_id','current','employer_name']])\n",
    "        part_emp = (part_emp[['emp_id','currently_employed','department','name','registered_phone_number','work_location']])\n",
    "        part_emp= part_emp.rename(columns = {'emp_id':'employee_id'})\n",
    "        loanapp = loanapp[['user_id','status']]\n",
    "\n",
    "\n",
    "        df = (pd.merge(user_emp, part_emp, on='employee_id'))\n",
    "\n",
    "        df['user_id'] = df['user_id'].astype(str)\n",
    "        df = (pd.merge(loanapp, df, on='user_id'))\n",
    "        df = df[['name','employee_id','work_location','department','status','currently_employed','registered_phone_number','employer_name']]\n",
    "\n",
    "        df.columns = ['Name','Emp_id','Curr_City','Department','Status','Currently_Employed','Phone_No','Vendor']\n",
    "        df['Status'] = df['Status'].map({'CREDIT_DECISION_SUCCESS': 'Active','APPLIED': 'Applied'})\n",
    "\n",
    "        df['Currently_Employed'] = df['Currently_Employed'].map({True: 'Working',False: 'Not Working'})\n",
    "        dfs.append(df)\n",
    "    return(dfs)\n",
    "\n",
    "\n",
    "\n",
    "\n",
    "# sub_partner_emp()\n",
    "\n",
    "#         finalqueryresult = pd.concat(dfs, ignore_index=True)\n",
    "#         print(finalqueryresult)\n",
    "\n",
    "\n",
    "\n",
    "\n",
    "\n",
    "#     finally:\n",
    "\n",
    "\n",
    "#         finalqueryresult = pd.concat(dfs, ignore_index=True)\n",
    "#         print(finalqueryresult)\n",
    "\n",
    "\n",
    "\n",
    "\n",
    "\n",
    "# except KeyError:\n",
    "#     pass\n",
    "\n",
    "\n"
   ]
  },
  {
   "cell_type": "code",
   "execution_count": 11,
   "metadata": {},
   "outputs": [
    {
     "name": "stdout",
     "output_type": "stream",
     "text": [
      "5d4421722b3dc03043dead1e\n",
      "5d7715a2a89a6353a33e5b52\n",
      "5d7f6164119a9e72b46071ac\n"
     ]
    }
   ],
   "source": [
    "pids = ['5d4421722b3dc03043dead1e']\n",
    "dfss = []\n",
    "dfsss =[]\n",
    "try:\n",
    "    dfss.append(sub_partner_emp(pids))\n",
    "    partners_tbl=mydb['partners'].find({'parent_partner_id': ObjectId('5d4421722b3dc03043dead1e')})\n",
    "    part = pd.DataFrame(list(partners_tbl))\n",
    "    pids.append((part['_id'].astype(str)).tolist()) \n",
    "    dfsss.append(sub_partner_emp(pids[1]))\n",
    "except Exception:\n",
    "    print(traceback.format_exc())"
   ]
  },
  {
   "cell_type": "code",
   "execution_count": 14,
   "metadata": {},
   "outputs": [
    {
     "data": {
      "text/plain": [
       "[]"
      ]
     },
     "execution_count": 14,
     "metadata": {},
     "output_type": "execute_result"
    }
   ],
   "source": [
    "(dfs)"
   ]
  },
  {
   "cell_type": "code",
   "execution_count": 5,
   "metadata": {
    "scrolled": true
   },
   "outputs": [
    {
     "ename": "TypeError",
     "evalue": "cannot concatenate object of type \"<class 'list'>\"; only pd.Series, pd.DataFrame, and pd.Panel (deprecated) objs are valid",
     "output_type": "error",
     "traceback": [
      "\u001b[0;31m---------------------------------------------------------------------------\u001b[0m",
      "\u001b[0;31mTypeError\u001b[0m                                 Traceback (most recent call last)",
      "\u001b[0;32m<ipython-input-5-e1fb94a379b1>\u001b[0m in \u001b[0;36m<module>\u001b[0;34m\u001b[0m\n\u001b[0;32m----> 1\u001b[0;31m \u001b[0mdf\u001b[0m \u001b[0;34m=\u001b[0m \u001b[0mpd\u001b[0m\u001b[0;34m.\u001b[0m\u001b[0mconcat\u001b[0m\u001b[0;34m(\u001b[0m\u001b[0mdfss\u001b[0m\u001b[0;34m,\u001b[0m \u001b[0mignore_index\u001b[0m\u001b[0;34m=\u001b[0m\u001b[0;32mTrue\u001b[0m\u001b[0;34m)\u001b[0m\u001b[0;34m\u001b[0m\u001b[0;34m\u001b[0m\u001b[0m\n\u001b[0m",
      "\u001b[0;32m~/miniconda3/envs/dashboard/lib/python3.7/site-packages/pandas/core/reshape/concat.py\u001b[0m in \u001b[0;36mconcat\u001b[0;34m(objs, axis, join, join_axes, ignore_index, keys, levels, names, verify_integrity, sort, copy)\u001b[0m\n\u001b[1;32m    223\u001b[0m                        \u001b[0mkeys\u001b[0m\u001b[0;34m=\u001b[0m\u001b[0mkeys\u001b[0m\u001b[0;34m,\u001b[0m \u001b[0mlevels\u001b[0m\u001b[0;34m=\u001b[0m\u001b[0mlevels\u001b[0m\u001b[0;34m,\u001b[0m \u001b[0mnames\u001b[0m\u001b[0;34m=\u001b[0m\u001b[0mnames\u001b[0m\u001b[0;34m,\u001b[0m\u001b[0;34m\u001b[0m\u001b[0;34m\u001b[0m\u001b[0m\n\u001b[1;32m    224\u001b[0m                        \u001b[0mverify_integrity\u001b[0m\u001b[0;34m=\u001b[0m\u001b[0mverify_integrity\u001b[0m\u001b[0;34m,\u001b[0m\u001b[0;34m\u001b[0m\u001b[0;34m\u001b[0m\u001b[0m\n\u001b[0;32m--> 225\u001b[0;31m                        copy=copy, sort=sort)\n\u001b[0m\u001b[1;32m    226\u001b[0m     \u001b[0;32mreturn\u001b[0m \u001b[0mop\u001b[0m\u001b[0;34m.\u001b[0m\u001b[0mget_result\u001b[0m\u001b[0;34m(\u001b[0m\u001b[0;34m)\u001b[0m\u001b[0;34m\u001b[0m\u001b[0;34m\u001b[0m\u001b[0m\n\u001b[1;32m    227\u001b[0m \u001b[0;34m\u001b[0m\u001b[0m\n",
      "\u001b[0;32m~/miniconda3/envs/dashboard/lib/python3.7/site-packages/pandas/core/reshape/concat.py\u001b[0m in \u001b[0;36m__init__\u001b[0;34m(self, objs, axis, join, join_axes, keys, levels, names, ignore_index, verify_integrity, copy, sort)\u001b[0m\n\u001b[1;32m    284\u001b[0m                        \u001b[0;34m' only pd.Series, pd.DataFrame, and pd.Panel'\u001b[0m\u001b[0;34m\u001b[0m\u001b[0;34m\u001b[0m\u001b[0m\n\u001b[1;32m    285\u001b[0m                        ' (deprecated) objs are valid'.format(type(obj)))\n\u001b[0;32m--> 286\u001b[0;31m                 \u001b[0;32mraise\u001b[0m \u001b[0mTypeError\u001b[0m\u001b[0;34m(\u001b[0m\u001b[0mmsg\u001b[0m\u001b[0;34m)\u001b[0m\u001b[0;34m\u001b[0m\u001b[0;34m\u001b[0m\u001b[0m\n\u001b[0m\u001b[1;32m    287\u001b[0m \u001b[0;34m\u001b[0m\u001b[0m\n\u001b[1;32m    288\u001b[0m             \u001b[0;31m# consolidate\u001b[0m\u001b[0;34m\u001b[0m\u001b[0;34m\u001b[0m\u001b[0;34m\u001b[0m\u001b[0m\n",
      "\u001b[0;31mTypeError\u001b[0m: cannot concatenate object of type \"<class 'list'>\"; only pd.Series, pd.DataFrame, and pd.Panel (deprecated) objs are valid"
     ]
    }
   ],
   "source": [
    "df = pd.concat(dfss, ignore_index=True)"
   ]
  },
  {
   "cell_type": "code",
   "execution_count": 43,
   "metadata": {
    "scrolled": true
   },
   "outputs": [
    {
     "name": "stdout",
     "output_type": "stream",
     "text": [
      "[]\n",
      "5d7715a2a89a6353a33e5b52\n",
      "5d7f6164119a9e72b46071ac\n"
     ]
    },
    {
     "ename": "TypeError",
     "evalue": "cannot concatenate object of type \"<type 'list'>\"; only pd.Series, pd.DataFrame, and pd.Panel (deprecated) objs are valid",
     "output_type": "error",
     "traceback": [
      "\u001b[0;31m---------------------------------------------------------------------------\u001b[0m",
      "\u001b[0;31mTypeError\u001b[0m                                 Traceback (most recent call last)",
      "\u001b[0;32m<ipython-input-43-c03eb063b9b2>\u001b[0m in \u001b[0;36m<module>\u001b[0;34m()\u001b[0m\n\u001b[1;32m     19\u001b[0m     \u001b[0;32mprint\u001b[0m\u001b[0;34m(\u001b[0m\u001b[0mtraceback\u001b[0m\u001b[0;34m.\u001b[0m\u001b[0mformat_exc\u001b[0m\u001b[0;34m(\u001b[0m\u001b[0;34m)\u001b[0m\u001b[0;34m)\u001b[0m\u001b[0;34m\u001b[0m\u001b[0m\n\u001b[1;32m     20\u001b[0m \u001b[0;32mfinally\u001b[0m\u001b[0;34m:\u001b[0m\u001b[0;34m\u001b[0m\u001b[0m\n\u001b[0;32m---> 21\u001b[0;31m     \u001b[0mxx\u001b[0m \u001b[0;34m=\u001b[0m \u001b[0mpd\u001b[0m\u001b[0;34m.\u001b[0m\u001b[0mconcat\u001b[0m\u001b[0;34m(\u001b[0m\u001b[0mdfss\u001b[0m\u001b[0;34m,\u001b[0m \u001b[0mignore_index\u001b[0m\u001b[0;34m=\u001b[0m\u001b[0mTrue\u001b[0m\u001b[0;34m)\u001b[0m\u001b[0;34m\u001b[0m\u001b[0m\n\u001b[0m\u001b[1;32m     22\u001b[0m \u001b[0;31m#     print(xx)\u001b[0m\u001b[0;34m\u001b[0m\u001b[0;34m\u001b[0m\u001b[0m\n\u001b[1;32m     23\u001b[0m \u001b[0;34m\u001b[0m\u001b[0m\n",
      "\u001b[0;32m/Users/onion8/miniconda3/lib/python2.7/site-packages/pandas/core/reshape/concat.pyc\u001b[0m in \u001b[0;36mconcat\u001b[0;34m(objs, axis, join, join_axes, ignore_index, keys, levels, names, verify_integrity, sort, copy)\u001b[0m\n\u001b[1;32m    223\u001b[0m                        \u001b[0mkeys\u001b[0m\u001b[0;34m=\u001b[0m\u001b[0mkeys\u001b[0m\u001b[0;34m,\u001b[0m \u001b[0mlevels\u001b[0m\u001b[0;34m=\u001b[0m\u001b[0mlevels\u001b[0m\u001b[0;34m,\u001b[0m \u001b[0mnames\u001b[0m\u001b[0;34m=\u001b[0m\u001b[0mnames\u001b[0m\u001b[0;34m,\u001b[0m\u001b[0;34m\u001b[0m\u001b[0m\n\u001b[1;32m    224\u001b[0m                        \u001b[0mverify_integrity\u001b[0m\u001b[0;34m=\u001b[0m\u001b[0mverify_integrity\u001b[0m\u001b[0;34m,\u001b[0m\u001b[0;34m\u001b[0m\u001b[0m\n\u001b[0;32m--> 225\u001b[0;31m                        copy=copy, sort=sort)\n\u001b[0m\u001b[1;32m    226\u001b[0m     \u001b[0;32mreturn\u001b[0m \u001b[0mop\u001b[0m\u001b[0;34m.\u001b[0m\u001b[0mget_result\u001b[0m\u001b[0;34m(\u001b[0m\u001b[0;34m)\u001b[0m\u001b[0;34m\u001b[0m\u001b[0m\n\u001b[1;32m    227\u001b[0m \u001b[0;34m\u001b[0m\u001b[0m\n",
      "\u001b[0;32m/Users/onion8/miniconda3/lib/python2.7/site-packages/pandas/core/reshape/concat.pyc\u001b[0m in \u001b[0;36m__init__\u001b[0;34m(self, objs, axis, join, join_axes, keys, levels, names, ignore_index, verify_integrity, copy, sort)\u001b[0m\n\u001b[1;32m    284\u001b[0m                        \u001b[0;34m' only pd.Series, pd.DataFrame, and pd.Panel'\u001b[0m\u001b[0;34m\u001b[0m\u001b[0m\n\u001b[1;32m    285\u001b[0m                        ' (deprecated) objs are valid'.format(type(obj)))\n\u001b[0;32m--> 286\u001b[0;31m                 \u001b[0;32mraise\u001b[0m \u001b[0mTypeError\u001b[0m\u001b[0;34m(\u001b[0m\u001b[0mmsg\u001b[0m\u001b[0;34m)\u001b[0m\u001b[0;34m\u001b[0m\u001b[0m\n\u001b[0m\u001b[1;32m    287\u001b[0m \u001b[0;34m\u001b[0m\u001b[0m\n\u001b[1;32m    288\u001b[0m             \u001b[0;31m# consolidate\u001b[0m\u001b[0;34m\u001b[0m\u001b[0;34m\u001b[0m\u001b[0m\n",
      "\u001b[0;31mTypeError\u001b[0m: cannot concatenate object of type \"<type 'list'>\"; only pd.Series, pd.DataFrame, and pd.Panel (deprecated) objs are valid"
     ]
    }
   ],
   "source": [
    "pids = ['5d4421722b3dc03043dead1e']\n",
    "dfss = []\n",
    "xx = pd.DataFrame()\n",
    "try:\n",
    "#     dfss = []\n",
    "#     a = sub_partner_emp(pids)\n",
    "#     print(a)\n",
    "#     dfss.append(sub_partner_emp(pids))\n",
    "    print(dfss)\n",
    "    partners_tbl=mydb['partners'].find({'parent_partner_id': ObjectId('5d4421722b3dc03043dead1e')})\n",
    "    part = pd.DataFrame(list(partners_tbl))\n",
    "    pids.append((part['_id'].astype(str)).tolist())\n",
    "#     print(pids[1])\n",
    "#     b = sub_partner_emp(pids[1])\n",
    "#     print(b)\n",
    "    dfss.append(sub_partner_emp(pids[1]))\n",
    "#     print()\n",
    "except Exception:\n",
    "    print(traceback.format_exc())\n",
    "finally:\n",
    "    xx = pd.concat(dfss, ignore_index=True)\n",
    "#     print(xx)\n",
    "    "
   ]
  },
  {
   "cell_type": "code",
   "execution_count": 23,
   "metadata": {
    "scrolled": true
   },
   "outputs": [
    {
     "data": {
      "text/plain": [
       "['5d7715a2a89a6353a33e5b52', '5d7f6164119a9e72b46071ac']"
      ]
     },
     "execution_count": 23,
     "metadata": {},
     "output_type": "execute_result"
    }
   ],
   "source": [
    "pids[1]"
   ]
  }
 ],
 "metadata": {
  "kernelspec": {
   "display_name": "Python 3",
   "language": "python",
   "name": "python3"
  },
  "language_info": {
   "codemirror_mode": {
    "name": "ipython",
    "version": 3
   },
   "file_extension": ".py",
   "mimetype": "text/x-python",
   "name": "python",
   "nbconvert_exporter": "python",
   "pygments_lexer": "ipython3",
   "version": "3.7.3"
  }
 },
 "nbformat": 4,
 "nbformat_minor": 2
}
